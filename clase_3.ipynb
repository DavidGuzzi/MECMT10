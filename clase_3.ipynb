{
 "cells": [
  {
   "cell_type": "code",
   "execution_count": null,
   "id": "b290e109",
   "metadata": {},
   "outputs": [],
   "source": [
    "import numpy as np\n",
    "import pandas as pd\n",
    "import matplotlib.pyplot as plt\n",
    "import statsmodels.api as sm\n",
    "from statsmodels.graphics.tsaplots import plot_acf, plot_pacf\n",
    "from statsmodels.tsa.stattools import acf, pacf\n",
    "from statsmodels.stats.diagnostic import acorr_ljungbox\n",
    "\n",
    "path = r\n",
    "df = pd.read_excel(path)\n",
    "df.head()"
   ]
  },
  {
   "cell_type": "code",
   "execution_count": 32,
   "id": "8b6449b9",
   "metadata": {},
   "outputs": [],
   "source": [
    "n = 57"
   ]
  },
  {
   "cell_type": "code",
   "execution_count": 33,
   "id": "3c04e438",
   "metadata": {},
   "outputs": [
    {
     "name": "stdout",
     "output_type": "stream",
     "text": [
      "55 60\n",
      "57\n"
     ]
    }
   ],
   "source": [
    "five_mults = [x for x in range(5,105,5)]\n",
    "\n",
    "if n > 38:\n",
    "    for i in range(len(five_mults)):\n",
    "        if n > five_mults[i] and n <= five_mults[i+1]:\n",
    "            print(five_mults[i], five_mults[i+1])\n",
    "            if five_mults[i+1] - n < 3:\n",
    "                print(five_mults[i+1])\n",
    "                n = i\n",
    "            else:\n",
    "                n = n\n",
    "                print(n)\n",
    "else:\n",
    "    n = n\n",
    "    print(n)"
   ]
  }
 ],
 "metadata": {
  "kernelspec": {
   "display_name": "Python 3",
   "language": "python",
   "name": "python3"
  },
  "language_info": {
   "codemirror_mode": {
    "name": "ipython",
    "version": 3
   },
   "file_extension": ".py",
   "mimetype": "text/x-python",
   "name": "python",
   "nbconvert_exporter": "python",
   "pygments_lexer": "ipython3",
   "version": "3.12.2"
  }
 },
 "nbformat": 4,
 "nbformat_minor": 5
}

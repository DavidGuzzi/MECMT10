{
 "cells": [
  {
   "cell_type": "code",
   "execution_count": null,
   "id": "0fe1c285",
   "metadata": {},
   "outputs": [],
   "source": [
    "import numpy as np\n",
    "import pandas as pd\n",
    "\n",
    "path = r\"C:\\Users\\HP\\OneDrive\\Escritorio\\David Guzzi\\DiTella\\MEC\\Materias\\2025\\2025 1T\\[MT10] Series de Tiempo\\Clases prácticas\\Práctica 2-20250504\\termduffie.txt\"\n",
    "df = pd.read_csv(path, delimiter=\"\\t\", decimal=\".\")\n",
    "df.head()"
   ]
  }
 ],
 "metadata": {
  "language_info": {
   "name": "python"
  }
 },
 "nbformat": 4,
 "nbformat_minor": 5
}

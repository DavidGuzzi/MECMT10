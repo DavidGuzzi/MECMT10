{
 "cells": [
  {
   "cell_type": "code",
   "execution_count": null,
   "id": "e2c7560e",
   "metadata": {},
   "outputs": [],
   "source": [
    "import pandas as pd\n",
    "import numpy as np\n",
    "\n",
    "path = r\"C:\\Users\\HP\\OneDrive\\Escritorio\\David Guzzi\\DiTella\\MEC\\Materias\\2025\\2025 1T\\[MT10] Series de Tiempo\\Examen\\shiller2018a.txt\"\n",
    "df = pd.read_csv(path, delimiter=\"\\t\", decimal=\".\")\n",
    "df.head()"
   ]
  },
  {
   "cell_type": "code",
   "execution_count": null,
   "id": "7ec3e3d1",
   "metadata": {},
   "outputs": [
    {
     "ename": "NameError",
     "evalue": "name 'df' is not defined",
     "output_type": "error",
     "traceback": [
      "\u001b[1;31m---------------------------------------------------------------------------\u001b[0m",
      "\u001b[1;31mNameError\u001b[0m                                 Traceback (most recent call last)",
      "Cell \u001b[1;32mIn[1], line 1\u001b[0m\n\u001b[1;32m----> 1\u001b[0m \u001b[43mdf\u001b[49m\u001b[38;5;241m.\u001b[39minfo()\n",
      "\u001b[1;31mNameError\u001b[0m: name 'df' is not defined"
     ]
    }
   ],
   "source": [
    "df.info()"
   ]
  },
  {
   "cell_type": "code",
   "execution_count": 4,
   "id": "c48dc6da",
   "metadata": {},
   "outputs": [
    {
     "name": "stdout",
     "output_type": "stream",
     "text": [
      "Mejor modelo ARIMA encontrado:\n",
      "order    (0, 0, 2)\n",
      "aic     -55.189562\n",
      "bic     -44.106823\n",
      "Name: 1, dtype: object\n"
     ]
    }
   ],
   "source": [
    "\n",
    "import statsmodels.api as sm\n",
    "from statsmodels.tsa.arima.model import ARIMA\n",
    "from itertools import product\n",
    "import warnings\n",
    "\n",
    "# Suponé que ya tenés tus series cargadas:\n",
    "serie = df[\"dlogrsp\"]\n",
    "\n",
    "# Por ejemplo:\n",
    "serie = serie.dropna()\n",
    "\n",
    "def buscar_mejor_arima(serie, max_p=3, max_d=2, max_q=3):\n",
    "    resultados = []\n",
    "    warnings.filterwarnings(\"ignore\")  # Evita warnings molestos al probar modelos\n",
    "\n",
    "    for p, d, q in product(range(max_p + 1), range(max_d + 1), range(max_q + 1)):\n",
    "        if p == 0 and d == 0 and q == 0:\n",
    "            continue  # Evita modelo trivial\n",
    "\n",
    "        try:\n",
    "            modelo = ARIMA(serie, order=(p, d, q)).fit()\n",
    "            resultados.append({\n",
    "                'order': (p, d, q),\n",
    "                'aic': modelo.aic,\n",
    "                'bic': modelo.bic\n",
    "            })\n",
    "        except:\n",
    "            continue\n",
    "\n",
    "    # Convertir a DataFrame y ordenar por AIC\n",
    "    res_df = pd.DataFrame(resultados)\n",
    "    mejor = res_df.sort_values('aic').iloc[0]\n",
    "    return mejor, res_df.sort_values('aic')\n",
    "\n",
    "# --- USO ---\n",
    "mejor_modelo, todos_los_modelos = buscar_mejor_arima(serie)\n",
    "print(\"Mejor modelo ARIMA encontrado:\")\n",
    "print(mejor_modelo)"
   ]
  },
  {
   "cell_type": "code",
   "execution_count": 5,
   "id": "797eae7b",
   "metadata": {},
   "outputs": [
    {
     "name": "stdout",
     "output_type": "stream",
     "text": [
      "Mejor modelo ARIMA encontrado:\n",
      "order     (1, 0, 2)\n",
      "aic     -190.944681\n",
      "bic     -177.091258\n",
      "Name: 13, dtype: object\n"
     ]
    }
   ],
   "source": [
    "# Suponé que ya tenés tus series cargadas:\n",
    "serie = df[\"dlogrdiv\"]\n",
    "\n",
    "# Por ejemplo:\n",
    "serie = serie.dropna()\n",
    "\n",
    "def buscar_mejor_arima(serie, max_p=3, max_d=2, max_q=3):\n",
    "    resultados = []\n",
    "    warnings.filterwarnings(\"ignore\")  # Evita warnings molestos al probar modelos\n",
    "\n",
    "    for p, d, q in product(range(max_p + 1), range(max_d + 1), range(max_q + 1)):\n",
    "        if p == 0 and d == 0 and q == 0:\n",
    "            continue  # Evita modelo trivial\n",
    "\n",
    "        try:\n",
    "            modelo = ARIMA(serie, order=(p, d, q)).fit()\n",
    "            resultados.append({\n",
    "                'order': (p, d, q),\n",
    "                'aic': modelo.aic,\n",
    "                'bic': modelo.bic\n",
    "            })\n",
    "        except:\n",
    "            continue\n",
    "\n",
    "    # Convertir a DataFrame y ordenar por AIC\n",
    "    res_df = pd.DataFrame(resultados)\n",
    "    mejor = res_df.sort_values('aic').iloc[0]\n",
    "    return mejor, res_df.sort_values('aic')\n",
    "\n",
    "# --- USO ---\n",
    "mejor_modelo, todos_los_modelos = buscar_mejor_arima(serie)\n",
    "print(\"Mejor modelo ARIMA encontrado:\")\n",
    "print(mejor_modelo)"
   ]
  },
  {
   "cell_type": "code",
   "execution_count": 10,
   "id": "4834578a",
   "metadata": {},
   "outputs": [],
   "source": [
    "df_50 = df.iloc[:51, :].copy()"
   ]
  },
  {
   "cell_type": "code",
   "execution_count": 12,
   "id": "2f685e8c",
   "metadata": {},
   "outputs": [],
   "source": [
    "df_08 = df.iloc[51:,:].copy()"
   ]
  },
  {
   "cell_type": "code",
   "execution_count": 13,
   "id": "2ef4c2ea",
   "metadata": {},
   "outputs": [
    {
     "name": "stdout",
     "output_type": "stream",
     "text": [
      "Mejor modelo ARIMA encontrado:\n",
      "order    (2, 0, 2)\n",
      "aic      -9.274591\n",
      "bic       2.197547\n",
      "Name: 25, dtype: object\n"
     ]
    }
   ],
   "source": [
    "# Suponé que ya tenés tus series cargadas:\n",
    "serie = df_50[\"dlogrsp\"]\n",
    "\n",
    "# Por ejemplo:\n",
    "serie = serie.dropna()\n",
    "\n",
    "def buscar_mejor_arima(serie, max_p=3, max_d=2, max_q=3):\n",
    "    resultados = []\n",
    "    warnings.filterwarnings(\"ignore\")  # Evita warnings molestos al probar modelos\n",
    "\n",
    "    for p, d, q in product(range(max_p + 1), range(max_d + 1), range(max_q + 1)):\n",
    "        if p == 0 and d == 0 and q == 0:\n",
    "            continue  # Evita modelo trivial\n",
    "\n",
    "        try:\n",
    "            modelo = ARIMA(serie, order=(p, d, q)).fit()\n",
    "            resultados.append({\n",
    "                'order': (p, d, q),\n",
    "                'aic': modelo.aic,\n",
    "                'bic': modelo.bic\n",
    "            })\n",
    "        except:\n",
    "            continue\n",
    "\n",
    "    # Convertir a DataFrame y ordenar por AIC\n",
    "    res_df = pd.DataFrame(resultados)\n",
    "    mejor = res_df.sort_values('aic').iloc[0]\n",
    "    return mejor, res_df.sort_values('aic')\n",
    "\n",
    "# --- USO ---\n",
    "mejor_modelo, todos_los_modelos = buscar_mejor_arima(serie)\n",
    "print(\"Mejor modelo ARIMA encontrado:\")\n",
    "print(mejor_modelo)"
   ]
  },
  {
   "cell_type": "code",
   "execution_count": 14,
   "id": "4e43d3b7",
   "metadata": {},
   "outputs": [
    {
     "name": "stdout",
     "output_type": "stream",
     "text": [
      "Mejor modelo ARIMA encontrado:\n",
      "order    (1, 0, 2)\n",
      "aic     -45.150982\n",
      "bic     -35.590867\n",
      "Name: 13, dtype: object\n"
     ]
    }
   ],
   "source": [
    "# Suponé que ya tenés tus series cargadas:\n",
    "serie = df_50[\"dlogrdiv\"]\n",
    "\n",
    "# Por ejemplo:\n",
    "serie = serie.dropna()\n",
    "\n",
    "def buscar_mejor_arima(serie, max_p=3, max_d=2, max_q=3):\n",
    "    resultados = []\n",
    "    warnings.filterwarnings(\"ignore\")  # Evita warnings molestos al probar modelos\n",
    "\n",
    "    for p, d, q in product(range(max_p + 1), range(max_d + 1), range(max_q + 1)):\n",
    "        if p == 0 and d == 0 and q == 0:\n",
    "            continue  # Evita modelo trivial\n",
    "\n",
    "        try:\n",
    "            modelo = ARIMA(serie, order=(p, d, q)).fit()\n",
    "            resultados.append({\n",
    "                'order': (p, d, q),\n",
    "                'aic': modelo.aic,\n",
    "                'bic': modelo.bic\n",
    "            })\n",
    "        except:\n",
    "            continue\n",
    "\n",
    "    # Convertir a DataFrame y ordenar por AIC\n",
    "    res_df = pd.DataFrame(resultados)\n",
    "    mejor = res_df.sort_values('aic').iloc[0]\n",
    "    return mejor, res_df.sort_values('aic')\n",
    "\n",
    "# --- USO ---\n",
    "mejor_modelo, todos_los_modelos = buscar_mejor_arima(serie)\n",
    "print(\"Mejor modelo ARIMA encontrado:\")\n",
    "print(mejor_modelo)"
   ]
  },
  {
   "cell_type": "code",
   "execution_count": 15,
   "id": "9035229a",
   "metadata": {},
   "outputs": [
    {
     "name": "stdout",
     "output_type": "stream",
     "text": [
      "Mejor modelo ARIMA encontrado:\n",
      "order    (2, 0, 2)\n",
      "aic     -49.809509\n",
      "bic     -36.492463\n",
      "Name: 25, dtype: object\n"
     ]
    }
   ],
   "source": [
    "# Suponé que ya tenés tus series cargadas:\n",
    "serie = df_08[\"dlogrsp\"]\n",
    "\n",
    "# Por ejemplo:\n",
    "serie = serie.dropna()\n",
    "\n",
    "def buscar_mejor_arima(serie, max_p=3, max_d=2, max_q=3):\n",
    "    resultados = []\n",
    "    warnings.filterwarnings(\"ignore\")  # Evita warnings molestos al probar modelos\n",
    "\n",
    "    for p, d, q in product(range(max_p + 1), range(max_d + 1), range(max_q + 1)):\n",
    "        if p == 0 and d == 0 and q == 0:\n",
    "            continue  # Evita modelo trivial\n",
    "\n",
    "        try:\n",
    "            modelo = ARIMA(serie, order=(p, d, q)).fit()\n",
    "            resultados.append({\n",
    "                'order': (p, d, q),\n",
    "                'aic': modelo.aic,\n",
    "                'bic': modelo.bic\n",
    "            })\n",
    "        except:\n",
    "            continue\n",
    "\n",
    "    # Convertir a DataFrame y ordenar por AIC\n",
    "    res_df = pd.DataFrame(resultados)\n",
    "    mejor = res_df.sort_values('aic').iloc[0]\n",
    "    return mejor, res_df.sort_values('aic')\n",
    "\n",
    "# --- USO ---\n",
    "mejor_modelo, todos_los_modelos = buscar_mejor_arima(serie)\n",
    "print(\"Mejor modelo ARIMA encontrado:\")\n",
    "print(mejor_modelo)"
   ]
  },
  {
   "cell_type": "code",
   "execution_count": 16,
   "id": "994c65f9",
   "metadata": {},
   "outputs": [
    {
     "name": "stdout",
     "output_type": "stream",
     "text": [
      "Mejor modelo ARIMA encontrado:\n",
      "order     (2, 0, 0)\n",
      "aic     -203.914483\n",
      "bic     -195.036452\n",
      "Name: 23, dtype: object\n"
     ]
    }
   ],
   "source": [
    "# Suponé que ya tenés tus series cargadas:\n",
    "serie = df_08[\"dlogrdiv\"]\n",
    "\n",
    "# Por ejemplo:\n",
    "serie = serie.dropna()\n",
    "\n",
    "def buscar_mejor_arima(serie, max_p=3, max_d=2, max_q=3):\n",
    "    resultados = []\n",
    "    warnings.filterwarnings(\"ignore\")  # Evita warnings molestos al probar modelos\n",
    "\n",
    "    for p, d, q in product(range(max_p + 1), range(max_d + 1), range(max_q + 1)):\n",
    "        if p == 0 and d == 0 and q == 0:\n",
    "            continue  # Evita modelo trivial\n",
    "\n",
    "        try:\n",
    "            modelo = ARIMA(serie, order=(p, d, q)).fit()\n",
    "            resultados.append({\n",
    "                'order': (p, d, q),\n",
    "                'aic': modelo.aic,\n",
    "                'bic': modelo.bic\n",
    "            })\n",
    "        except:\n",
    "            continue\n",
    "\n",
    "    # Convertir a DataFrame y ordenar por AIC\n",
    "    res_df = pd.DataFrame(resultados)\n",
    "    mejor = res_df.sort_values('aic').iloc[0]\n",
    "    return mejor, res_df.sort_values('aic')\n",
    "\n",
    "# --- USO ---\n",
    "mejor_modelo, todos_los_modelos = buscar_mejor_arima(serie)\n",
    "print(\"Mejor modelo ARIMA encontrado:\")\n",
    "print(mejor_modelo)"
   ]
  }
 ],
 "metadata": {
  "kernelspec": {
   "display_name": "Python 3",
   "language": "python",
   "name": "python3"
  },
  "language_info": {
   "codemirror_mode": {
    "name": "ipython",
    "version": 3
   },
   "file_extension": ".py",
   "mimetype": "text/x-python",
   "name": "python",
   "nbconvert_exporter": "python",
   "pygments_lexer": "ipython3",
   "version": "3.12.2"
  }
 },
 "nbformat": 4,
 "nbformat_minor": 5
}

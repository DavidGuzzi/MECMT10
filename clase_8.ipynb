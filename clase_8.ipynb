{
 "cells": [
  {
   "cell_type": "code",
   "execution_count": null,
   "id": "5c1421ba",
   "metadata": {},
   "outputs": [],
   "source": [
    "import numpy as np\n",
    "import pandas as pd\n",
    "\n",
    "path = r\"C:\\Users\\HP\\OneDrive\\Escritorio\\David Guzzi\\DiTella\\MEC\\Materias\\2025\\2025 1T\\[MT10] Series de Tiempo\\Clases prácticas\\Práctica 3-20250511\\apm.txt\"\n",
    "df = pd.read_csv(path, delimiter=\"\\t\", decimal=\".\")\n",
    "df.head()"
   ]
  },
  {
   "cell_type": "code",
   "execution_count": 1,
   "id": "2474d0b4",
   "metadata": {},
   "outputs": [],
   "source": [
    "sticks = [1,2,3,4,5,10]"
   ]
  },
  {
   "cell_type": "code",
   "execution_count": null,
   "id": "9bbff1e5",
   "metadata": {},
   "outputs": [
    {
     "name": "stdout",
     "output_type": "stream",
     "text": [
      "1 2 3\n",
      "1 2 4\n",
      "1 2 5\n",
      "1 3 3\n",
      "1 3 4\n",
      "1 4 3\n",
      "2 2 3\n",
      "2 2 4\n",
      "2 2 5\n",
      "2 3 3\n",
      "2 3 4\n",
      "2 4 3\n",
      "3 2 3\n",
      "3 2 4\n",
      "3 2 5\n",
      "3 3 3\n",
      "3 3 4\n",
      "3 4 3\n",
      "4 2 3\n",
      "4 2 4\n",
      "4 2 5\n",
      "4 3 3\n",
      "4 3 4\n",
      "4 4 3\n",
      "5 2 3\n",
      "5 2 4\n",
      "5 2 5\n",
      "5 3 3\n",
      "5 3 4\n",
      "5 4 3\n",
      "10 2 3\n",
      "10 2 4\n",
      "10 2 5\n",
      "10 3 3\n",
      "10 3 4\n",
      "10 4 3\n"
     ]
    }
   ],
   "source": [
    "for s in range(len(sticks)):\n",
    "    for i in range(1, len(sticks)):\n",
    "        for j in range(2, len(sticks[])):\n",
    "            print(sticks[s], sticks[i], sticks[j])"
   ]
  }
 ],
 "metadata": {
  "kernelspec": {
   "display_name": "Python 3",
   "language": "python",
   "name": "python3"
  },
  "language_info": {
   "codemirror_mode": {
    "name": "ipython",
    "version": 3
   },
   "file_extension": ".py",
   "mimetype": "text/x-python",
   "name": "python",
   "nbconvert_exporter": "python",
   "pygments_lexer": "ipython3",
   "version": "3.12.2"
  }
 },
 "nbformat": 4,
 "nbformat_minor": 5
}
